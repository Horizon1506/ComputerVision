{
 "cells": [
  {
   "cell_type": "code",
   "execution_count": 1,
   "id": "80dbc67b-8146-4df2-a048-898787e25752",
   "metadata": {},
   "outputs": [],
   "source": [
    "# Import thư viện\n",
    "from PIL import Image\n",
    "import matplotlib.pyplot as plt"
   ]
  },
  {
   "cell_type": "code",
   "execution_count": 4,
   "id": "fb24c505-cd5e-4d4e-94ad-d3b44e614cd0",
   "metadata": {},
   "outputs": [],
   "source": [
    "# Đường dẫn ảnh\n",
    "my_path = 'C:\\\\Users\\\\taithanhnguyen\\\\OneDrive - dntu.edu.vn\\\\Desktop\\\\ComputerVision\\\\Img\\\\04.jpg'"
   ]
  },
  {
   "cell_type": "code",
   "execution_count": 6,
   "id": "2193ff92-a208-4e55-aa5b-d0ddeac10de1",
   "metadata": {},
   "outputs": [],
   "source": [
    "# Đọc ảnh\n",
    "im = Image.open(my_path)"
   ]
  },
  {
   "cell_type": "code",
   "execution_count": 8,
   "id": "d3c8e7f1-8512-4994-9d29-e3aa2cfafd24",
   "metadata": {},
   "outputs": [],
   "source": [
    "#chuyển đổi backend\n",
    "plt.switch_backend('tkagg')"
   ]
  },
  {
   "cell_type": "code",
   "execution_count": 18,
   "id": "15e6947c-6c8a-4e64-9229-a83b7b44df56",
   "metadata": {},
   "outputs": [
    {
     "name": "stdout",
     "output_type": "stream",
     "text": [
      "[(72.86363636363637, 153.46590909090907), (125.02272727272731, 148.63636363636363), (61.27272727272731, 274.20454545454544), (168.48863636363643, 276.1363636363636), (99.90909090909093, 248.12499999999997)]\n"
     ]
    }
   ],
   "source": [
    "# Hiển thị ảnh\n",
    "plt.imshow(im)\n",
    "plt.title('Click on the image to select points')\n",
    "\n",
    "# Sử dụng hàm ginput để chọn điểm trên ảnh\n",
    "points = plt.ginput(5)\n",
    "\n",
    "print(points)\n",
    "\n",
    "# Hiển thị\n",
    "plt.show()"
   ]
  },
  {
   "cell_type": "code",
   "execution_count": 20,
   "id": "e00348e1-cf88-4328-97e3-6c10a5d373fe",
   "metadata": {},
   "outputs": [],
   "source": [
    "# Vẽ lại các điểm đã chọn bằng dấu * màu đỏ\n",
    "plt.imshow(im)\n",
    "for point in points:\n",
    "    x, y = point\n",
    "    plt.plot(x,y, 'r*')"
   ]
  },
  {
   "cell_type": "code",
   "execution_count": 24,
   "id": "01e475ba-37e0-4c92-bc00-e9a869ec74ee",
   "metadata": {},
   "outputs": [],
   "source": [
    "plt.show()"
   ]
  },
  {
   "cell_type": "code",
   "execution_count": null,
   "id": "7331da1a-ec58-4943-8fa0-057a235a2309",
   "metadata": {},
   "outputs": [],
   "source": []
  }
 ],
 "metadata": {
  "kernelspec": {
   "display_name": "Python 3 (ipykernel)",
   "language": "python",
   "name": "python3"
  },
  "language_info": {
   "codemirror_mode": {
    "name": "ipython",
    "version": 3
   },
   "file_extension": ".py",
   "mimetype": "text/x-python",
   "name": "python",
   "nbconvert_exporter": "python",
   "pygments_lexer": "ipython3",
   "version": "3.12.4"
  }
 },
 "nbformat": 4,
 "nbformat_minor": 5
}
